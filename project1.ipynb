{
 "cells": [
  {
   "cell_type": "code",
   "execution_count": 1,
   "id": "46a3eb3b",
   "metadata": {},
   "outputs": [],
   "source": [
    "import pandas as pd\n",
    "import os"
   ]
  },
  {
   "cell_type": "markdown",
   "id": "1809469f",
   "metadata": {},
   "source": [
    "# Merging 12 months of data in a single file"
   ]
  },
  {
   "cell_type": "code",
   "execution_count": 8,
   "id": "5abd3ac3",
   "metadata": {},
   "outputs": [],
   "source": [
    "df = pd.read_csv(r\"C:\\Users\\VISHAL\\Downloads\\Pandas-Data-Science-Tasks-master\\SalesAnalysis\\Sales_Data\\Sales_April_2019.csv\")\n",
    "\n",
    "all_months_data = pd.DataFrame()\n",
    "files = [file for file in os.listdir(r'C:\\Users\\VISHAL\\Downloads\\Pandas-Data-Science-Tasks-master\\SalesAnalysis\\Sales_Data')]\n",
    "for file in files:\n",
    "    df = pd.read_csv(r'C:\\Users\\VISHAL\\Downloads\\Pandas-Data-Science-Tasks-master\\SalesAnalysis\\Sales_Data/'+file)\n",
    "    all_months_data = pd.concat([all_months_data, df])#concate all files in one file\n",
    "all_months_data.to_csv('all_data.csv', index=False)"
   ]
  },
  {
   "cell_type": "markdown",
   "id": "19cab271",
   "metadata": {},
   "source": [
    "# Read updated dataframe"
   ]
  }
 ],
 "metadata": {
  "kernelspec": {
   "display_name": "Python 3 (ipykernel)",
   "language": "python",
   "name": "python3"
  },
  "language_info": {
   "codemirror_mode": {
    "name": "ipython",
    "version": 3
   },
   "file_extension": ".py",
   "mimetype": "text/x-python",
   "name": "python",
   "nbconvert_exporter": "python",
   "pygments_lexer": "ipython3",
   "version": "3.9.7"
  }
 },
 "nbformat": 4,
 "nbformat_minor": 5
}
